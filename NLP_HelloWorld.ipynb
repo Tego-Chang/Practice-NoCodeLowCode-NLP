{
  "nbformat": 4,
  "nbformat_minor": 0,
  "metadata": {
    "colab": {
      "name": "NLP_HelloWorld.ipynb",
      "provenance": [],
      "authorship_tag": "ABX9TyNNg0xtZ4r/qtx4iOmk/emn",
      "include_colab_link": true
    },
    "kernelspec": {
      "name": "python3",
      "display_name": "Python 3"
    },
    "language_info": {
      "name": "python"
    }
  },
  "cells": [
    {
      "cell_type": "markdown",
      "metadata": {
        "id": "view-in-github",
        "colab_type": "text"
      },
      "source": [
        "<a href=\"https://colab.research.google.com/github/Tego-Chang/Practice-NoCodeLowCode-NLP/blob/main/NLP_HelloWorld.ipynb\" target=\"_parent\"><img src=\"https://colab.research.google.com/assets/colab-badge.svg\" alt=\"Open In Colab\"/></a>"
      ]
    },
    {
      "cell_type": "markdown",
      "source": [
        "## Ingest Data"
      ],
      "metadata": {
        "id": "7CzGRspy7PVr"
      }
    },
    {
      "cell_type": "code",
      "source": [
        "!wget https://raw.githubusercontent.com/Tego-Chang/Practice-NoCodeLowCode-NLP/main/Hemingway-old-man-see.txt"
      ],
      "metadata": {
        "colab": {
          "base_uri": "https://localhost:8080/"
        },
        "id": "5tdPHfqC7R0f",
        "outputId": "640266de-3b50-400c-af9d-69a1f9ab7cfd"
      },
      "execution_count": 3,
      "outputs": [
        {
          "output_type": "stream",
          "name": "stdout",
          "text": [
            "--2021-12-09 02:02:45--  https://raw.githubusercontent.com/Tego-Chang/Practice-NoCodeLowCode-NLP/main/Hemingway-old-man-see.txt\n",
            "Resolving raw.githubusercontent.com (raw.githubusercontent.com)... 185.199.108.133, 185.199.109.133, 185.199.110.133, ...\n",
            "Connecting to raw.githubusercontent.com (raw.githubusercontent.com)|185.199.108.133|:443... connected.\n",
            "HTTP request sent, awaiting response... 200 OK\n",
            "Length: 134520 (131K) [text/plain]\n",
            "Saving to: ‘Hemingway-old-man-see.txt’\n",
            "\n",
            "\r          Hemingway   0%[                    ]       0  --.-KB/s               \rHemingway-old-man-s 100%[===================>] 131.37K  --.-KB/s    in 0.01s   \n",
            "\n",
            "2021-12-09 02:02:45 (8.77 MB/s) - ‘Hemingway-old-man-see.txt’ saved [134520/134520]\n",
            "\n"
          ]
        }
      ]
    },
    {
      "cell_type": "code",
      "source": [
        "!head Hemingway-old-man-see.txt\n",
        "!tail Hemingway-old-man-see.txt"
      ],
      "metadata": {
        "colab": {
          "base_uri": "https://localhost:8080/"
        },
        "id": "5oP78erQ7TVq",
        "outputId": "f5a09d08-e971-44e8-adc9-dd2d49cca348"
      },
      "execution_count": 7,
      "outputs": [
        {
          "output_type": "stream",
          "name": "stdout",
          "text": [
            "THE OLD MAN AND THE SEA\n",
            "\n",
            "\n",
            "\n",
            "\n",
            "He was an old man who fished alone in a skiff in the Gulf Stream and he\n",
            "had gone eighty-four days now without taking a fish.  In the first\n",
            "forty days a boy had been with him.  But after forty days without a\n",
            "fish the boy's parents had told him that the old man was now definitely\n",
            "and finally _salao_, which is the worst form of unlucky, and the boy\n",
            "\"Tiburon,\" the waiter said, \"Eshark.\"  He was meaning to explain what\n",
            "had happened.\n",
            "\n",
            "\"I didn't know sharks had such handsome, beautifully formed tails.\"\n",
            "\n",
            "\"I didn't either,\" her male companion said.\n",
            "\n",
            "Up the road, in his shack, the old man was sleeping again.  He was\n",
            "still sleeping on his face and the boy was sitting by him watching him.\n",
            "The old man was dreaming about the lions.\n"
          ]
        }
      ]
    },
    {
      "cell_type": "code",
      "source": [
        ""
      ],
      "metadata": {
        "id": "xBSmfGH273Sc"
      },
      "execution_count": null,
      "outputs": []
    }
  ]
}